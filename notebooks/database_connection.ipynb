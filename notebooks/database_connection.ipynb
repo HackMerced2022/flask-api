{
 "cells": [
  {
   "cell_type": "code",
   "execution_count": 62,
   "metadata": {},
   "outputs": [
    {
     "data": {
      "text/plain": [
       "True"
      ]
     },
     "execution_count": 62,
     "metadata": {},
     "output_type": "execute_result"
    }
   ],
   "source": [
    "import sys\n",
    "import psycopg2\n",
    "from os import getenv\n",
    "from dotenv import load_dotenv\n",
    "load_dotenv()"
   ]
  },
  {
   "cell_type": "code",
   "execution_count": 63,
   "metadata": {},
   "outputs": [],
   "source": [
    "ELEPHANTSQL_DATABASE = getenv('ELEPHANTSQL_DATABASE')\n",
    "ELEPHANTSQL_USERNAME = getenv('ELEPHANTSQL_USERNAME')\n",
    "ELEPHANTSQL_PASSWORD = getenv('ELEPHANTSQL_PASSWORD')\n",
    "ELEPHANTSQL_HOST = getenv('ELEPHANTSQL_HOST')"
   ]
  },
  {
   "cell_type": "markdown",
   "metadata": {},
   "source": [
    "SQL Database Connect"
   ]
  },
  {
   "cell_type": "code",
   "execution_count": 64,
   "metadata": {},
   "outputs": [],
   "source": [
    "def connect(DATABASE, USERNAME, PASSWORD, HOST):\n",
    "    \"\"\" Connect to the PostgreSQL database server \"\"\"\n",
    "    elephantsql_client = None\n",
    "    try:\n",
    "        # connect to the PostgreSQL server\n",
    "        print('Connecting to the PostgreSQL database...')\n",
    "\n",
    "        # Connect to ElephantSQL-hosted PostgreSQL\n",
    "        elephantsql_client = psycopg2.connect(dbname=DATABASE, user=USERNAME, password=PASSWORD, host=HOST)\n",
    "\n",
    "    except (Exception, psycopg2.DatabaseError) as error:\n",
    "        print(error)\n",
    "        sys.exit(1)\n",
    "    return elephantsql_client"
   ]
  },
  {
   "cell_type": "markdown",
   "metadata": {},
   "source": [
    "Create Database Table"
   ]
  },
  {
   "cell_type": "code",
   "execution_count": 65,
   "metadata": {},
   "outputs": [],
   "source": [
    "def create_table(elephantsql_client, command):\n",
    "    '''Creating table with given input command'''    \n",
    "    try:\n",
    "        # A \"cursor\", a structure to iterate over db records to perform queries\n",
    "        cur = elephantsql_client.cursor()\n",
    "\n",
    "        # Execute commands in order\n",
    "        cur.execute(command)\n",
    "\n",
    "        # Close communication with the PostgreSQL database server\n",
    "        cur.close()\n",
    "\n",
    "        # Commit the changes\n",
    "        elephantsql_client.commit()\n",
    "\n",
    "    except (Exception, psycopg2.DatabaseError) as error:\n",
    "        print(error)"
   ]
  },
  {
   "cell_type": "markdown",
   "metadata": {},
   "source": [
    "Execute Command"
   ]
  },
  {
   "cell_type": "code",
   "execution_count": 66,
   "metadata": {},
   "outputs": [],
   "source": [
    "def execute_command(elephantsql_client, insert_req):\n",
    "    \"\"\" Execute a single INSERT request \"\"\"\n",
    "    try:\n",
    "        # Create cursor object\n",
    "        cur = elephantsql_client.cursor()\n",
    "\n",
    "        # Execute command\n",
    "        cur.execute(insert_req)\n",
    "\n",
    "        # Commit changes\n",
    "        elephantsql_client.commit()\n",
    "    except (Exception, psycopg2.DatabaseError) as error:\n",
    "\n",
    "        print(\"Error: %s\" % error)\n",
    "\n",
    "        # Reset to prev database state\n",
    "        elephantsql_client.rollback()\n",
    "\n",
    "        # Close cursor object\n",
    "        cur.close()\n",
    "        return 1\n",
    "        \n",
    "    cur.close()"
   ]
  },
  {
   "cell_type": "code",
   "execution_count": 48,
   "metadata": {},
   "outputs": [
    {
     "name": "stdout",
     "output_type": "stream",
     "text": [
      "Connecting to the PostgreSQL database...\n",
      "Connection is closed.\n"
     ]
    }
   ],
   "source": [
    "# Database connection\n",
    "elephantsql_client = connect(ELEPHANTSQL_DATABASE, ELEPHANTSQL_USERNAME, ELEPHANTSQL_PASSWORD, ELEPHANTSQL_HOST)\n",
    "\n",
    "# Building Inital user tweet tables\n",
    "command = '''CREATE TABLE IF NOT EXISTS questions_table (question_id             SERIAL PRIMARY KEY,\n",
    "                                                         question_title             varchar(20),\n",
    "                                                         question_desc              varchar(500),\n",
    "                                                         question_a                 varchar(100),\n",
    "                                                         question_b                 varchar(100),\n",
    "                                                         question_c                 varchar(100),\n",
    "                                                         question_d                 varchar(100),\n",
    "                                                         answer                     varchar(100),\n",
    "                                                         error                      varchar(100))'''\n",
    "create_table(elephantsql_client, command)\n",
    "\n",
    "# Close the connection\n",
    "elephantsql_client.close()\n",
    "print('Connection is closed.')"
   ]
  },
  {
   "cell_type": "code",
   "execution_count": 67,
   "metadata": {},
   "outputs": [
    {
     "name": "stdout",
     "output_type": "stream",
     "text": [
      "Connecting to the PostgreSQL database...\n",
      "Connection is closed.\n"
     ]
    }
   ],
   "source": [
    "# Database connection\n",
    "elephantsql_client = connect(ELEPHANTSQL_DATABASE, ELEPHANTSQL_USERNAME, ELEPHANTSQL_PASSWORD, ELEPHANTSQL_HOST)\n",
    "\n",
    "question_package = {'question_id':  12,\n",
    "                    'question_title': 'Question 2',\n",
    "                    'question_desc': 'test',\n",
    "                    'question_a': '3',\n",
    "                    'question_b': '6',\n",
    "                    'question_c': '4',\n",
    "                    'question_d': '5',\n",
    "                    'answer': 'a',\n",
    "                    'error': 'None'}\n",
    "\n",
    "query = \"INSERT INTO questions_table (question_id, question_title, question_desc, question_a, question_b, question_c, question_d, answer, error) VALUES ('{}', '{}', '{}', '{}', '{}', '{}', '{}', '{}', '{}' )\".format(question_package['question_id'], \n",
    "                                                                                                                                                                                                                        question_package['question_title'], \n",
    "                                                                                                                                                                                                                        question_package['question_desc'], \n",
    "                                                                                                                                                                                                                        question_package['question_a'], \n",
    "                                                                                                                                                                                                                        question_package['question_b'], \n",
    "                                                                                                                                                                                                                        question_package['question_c'], \n",
    "                                                                                                                                                                                                                        question_package['question_d'], \n",
    "                                                                                                                                                                                                                        question_package['answer'], \n",
    "                                                                                                                                                                                                                        question_package['error'])\n",
    "execute_command(elephantsql_client, query)\n",
    "\n",
    "# Close the connection\n",
    "elephantsql_client.close()\n",
    "print('Connection is closed.')"
   ]
  },
  {
   "cell_type": "code",
   "execution_count": 50,
   "metadata": {},
   "outputs": [],
   "source": [
    "def get_value(elephantsql_client, command):\n",
    "    # A \"cursor\", a structure to iterate over db records to perform queries\n",
    "    cur = elephantsql_client.cursor()\n",
    "\n",
    "    try:\n",
    "        # Execute commands in order\n",
    "        cur.execute(command)\n",
    "\n",
    "    except (Exception, psycopg2.DatabaseError) as error:\n",
    "        print(\"Error: %s\" % error)\n",
    "        elephantsql_client.rollback()\n",
    "        cur.close()\n",
    "        return 1\n",
    "\n",
    "    # Get cur value\n",
    "    returned = cur.fetchall()\n",
    "    \n",
    "    # Close communication with the PostgreSQL database server\n",
    "    cur.close()\n",
    "\n",
    "    return returned"
   ]
  },
  {
   "cell_type": "code",
   "execution_count": 60,
   "metadata": {},
   "outputs": [
    {
     "name": "stdout",
     "output_type": "stream",
     "text": [
      "Connecting to the PostgreSQL database...\n",
      "Connection is closed.\n"
     ]
    }
   ],
   "source": [
    "# Database connection\n",
    "elephantsql_client = connect(ELEPHANTSQL_DATABASE, ELEPHANTSQL_USERNAME, ELEPHANTSQL_PASSWORD, ELEPHANTSQL_HOST)\n",
    "\n",
    "command = '''SELECT * FROM questions_table WHERE question_id = 11'''\n",
    "question_package = get_value(elephantsql_client, command)\n",
    "\n",
    "# Close the connection\n",
    "elephantsql_client.close()\n",
    "print('Connection is closed.')"
   ]
  },
  {
   "cell_type": "code",
   "execution_count": 61,
   "metadata": {},
   "outputs": [
    {
     "data": {
      "text/plain": [
       "[(11,\n",
       "  'Question 1',\n",
       "  'What is the output of 7%4',\n",
       "  '3',\n",
       "  '6',\n",
       "  '4',\n",
       "  '5',\n",
       "  'a',\n",
       "  'None')]"
      ]
     },
     "execution_count": 61,
     "metadata": {},
     "output_type": "execute_result"
    }
   ],
   "source": [
    "question_package"
   ]
  }
 ],
 "metadata": {
  "interpreter": {
   "hash": "878edaf2201edce6d4a06617dff3a215352c100cdc5bbd9fa7f83fa60e0da4ea"
  },
  "kernelspec": {
   "display_name": "Python 3.7.9 64-bit",
   "language": "python",
   "name": "python3"
  },
  "language_info": {
   "codemirror_mode": {
    "name": "ipython",
    "version": 3
   },
   "file_extension": ".py",
   "mimetype": "text/x-python",
   "name": "python",
   "nbconvert_exporter": "python",
   "pygments_lexer": "ipython3",
   "version": "3.7.9"
  },
  "orig_nbformat": 4
 },
 "nbformat": 4,
 "nbformat_minor": 2
}
