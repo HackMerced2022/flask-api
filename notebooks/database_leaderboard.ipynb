{
 "cells": [
  {
   "cell_type": "markdown",
   "metadata": {},
   "source": [
    "Import libraries"
   ]
  },
  {
   "cell_type": "code",
   "execution_count": 69,
   "metadata": {},
   "outputs": [
    {
     "data": {
      "text/plain": [
       "True"
      ]
     },
     "execution_count": 69,
     "metadata": {},
     "output_type": "execute_result"
    }
   ],
   "source": [
    "import sys\n",
    "import psycopg2\n",
    "from os import getenv\n",
    "from dotenv import load_dotenv\n",
    "load_dotenv()"
   ]
  },
  {
   "cell_type": "markdown",
   "metadata": {},
   "source": [
    "Import Database variables"
   ]
  },
  {
   "cell_type": "code",
   "execution_count": 70,
   "metadata": {},
   "outputs": [],
   "source": [
    "ELEPHANTSQL_DATABASE = getenv('ELEPHANTSQL_DATABASE')\n",
    "ELEPHANTSQL_USERNAME = getenv('ELEPHANTSQL_USERNAME')\n",
    "ELEPHANTSQL_PASSWORD = getenv('ELEPHANTSQL_PASSWORD')\n",
    "ELEPHANTSQL_HOST = getenv('ELEPHANTSQL_HOST')"
   ]
  },
  {
   "cell_type": "markdown",
   "metadata": {},
   "source": [
    "SQL Connect"
   ]
  },
  {
   "cell_type": "code",
   "execution_count": 71,
   "metadata": {},
   "outputs": [],
   "source": [
    "def connect(DATABASE, USERNAME, PASSWORD, HOST):\n",
    "    \"\"\" Connect to the PostgreSQL database server \"\"\"\n",
    "    elephantsql_client = None\n",
    "    try:\n",
    "        # connect to the PostgreSQL server\n",
    "        print('Connecting to the PostgreSQL database...')\n",
    "\n",
    "        # Connect to ElephantSQL-hosted PostgreSQL\n",
    "        elephantsql_client = psycopg2.connect(dbname=DATABASE, user=USERNAME, password=PASSWORD, host=HOST)\n",
    "\n",
    "    except (Exception, psycopg2.DatabaseError) as error:\n",
    "        print(error)\n",
    "        sys.exit(1)\n",
    "    return elephantsql_client"
   ]
  },
  {
   "cell_type": "markdown",
   "metadata": {},
   "source": [
    "SQL Create Table"
   ]
  },
  {
   "cell_type": "code",
   "execution_count": 72,
   "metadata": {},
   "outputs": [],
   "source": [
    "def create_table(elephantsql_client, command):\n",
    "    '''Creating table with given input command'''    \n",
    "    try:\n",
    "        # A \"cursor\", a structure to iterate over db records to perform queries\n",
    "        cur = elephantsql_client.cursor()\n",
    "\n",
    "        # Execute commands in order\n",
    "        cur.execute(command)\n",
    "\n",
    "        # Close communication with the PostgreSQL database server\n",
    "        cur.close()\n",
    "\n",
    "        # Commit the changes\n",
    "        elephantsql_client.commit()\n",
    "\n",
    "    except (Exception, psycopg2.DatabaseError) as error:\n",
    "        print(error)"
   ]
  },
  {
   "cell_type": "markdown",
   "metadata": {},
   "source": [
    "Execute Command"
   ]
  },
  {
   "cell_type": "code",
   "execution_count": 73,
   "metadata": {},
   "outputs": [],
   "source": [
    "def execute_command(elephantsql_client, insert_req):\n",
    "    \"\"\" Execute a single INSERT request \"\"\"\n",
    "    try:\n",
    "        # Create cursor object\n",
    "        cur = elephantsql_client.cursor()\n",
    "\n",
    "        # Execute command\n",
    "        cur.execute(insert_req)\n",
    "\n",
    "        # Commit changes\n",
    "        elephantsql_client.commit()\n",
    "    except (Exception, psycopg2.DatabaseError) as error:\n",
    "\n",
    "        print(\"Error: %s\" % error)\n",
    "\n",
    "        # Reset to prev database state\n",
    "        elephantsql_client.rollback()\n",
    "\n",
    "        # Close cursor object\n",
    "        cur.close()\n",
    "        return 1\n",
    "        \n",
    "    cur.close()"
   ]
  },
  {
   "cell_type": "markdown",
   "metadata": {},
   "source": [
    "Create usernames Table"
   ]
  },
  {
   "cell_type": "code",
   "execution_count": 76,
   "metadata": {},
   "outputs": [
    {
     "name": "stdout",
     "output_type": "stream",
     "text": [
      "Connecting to the PostgreSQL database...\n",
      "Connection is closed.\n"
     ]
    }
   ],
   "source": [
    "# Database connection\n",
    "elephantsql_client = connect(ELEPHANTSQL_DATABASE, ELEPHANTSQL_USERNAME, ELEPHANTSQL_PASSWORD, ELEPHANTSQL_HOST)\n",
    "\n",
    "# Building Inital user tweet tables\n",
    "command = '''CREATE TABLE IF NOT EXISTS usernames_table (username               varchar(25),\n",
    "                                                         questions_right        varchar(50),\n",
    "                                                         questions_wrong        varchar(50),\n",
    "                                                         question_accuracy      varchar(10),\n",
    "                                                         total_time             varchar(50),\n",
    "                                                         PRIMARY KEY(username))'''\n",
    "create_table(elephantsql_client, command)\n",
    "\n",
    "# Close the connection\n",
    "elephantsql_client.close()\n",
    "print('Connection is closed.')"
   ]
  },
  {
   "cell_type": "markdown",
   "metadata": {},
   "source": [
    "Get a Value"
   ]
  },
  {
   "cell_type": "code",
   "execution_count": 7,
   "metadata": {},
   "outputs": [],
   "source": [
    "def get_value(elephantsql_client, command):\n",
    "    # A \"cursor\", a structure to iterate over db records to perform queries\n",
    "    cur = elephantsql_client.cursor()\n",
    "\n",
    "    try:\n",
    "        # Execute commands in order\n",
    "        cur.execute(command)\n",
    "\n",
    "    except (Exception, psycopg2.DatabaseError) as error:\n",
    "        print(\"Error: %s\" % error)\n",
    "        elephantsql_client.rollback()\n",
    "        cur.close()\n",
    "        return 'failed'\n",
    "\n",
    "    # Get cur value\n",
    "    returned = cur.fetchall()\n",
    "    \n",
    "    # Close communication with the PostgreSQL database server\n",
    "    cur.close()\n",
    "\n",
    "    return returned"
   ]
  },
  {
   "cell_type": "markdown",
   "metadata": {},
   "source": [
    "Drop Table"
   ]
  },
  {
   "cell_type": "code",
   "execution_count": 67,
   "metadata": {},
   "outputs": [
    {
     "name": "stdout",
     "output_type": "stream",
     "text": [
      "Connecting to the PostgreSQL database...\n",
      "Connection is closed.\n"
     ]
    }
   ],
   "source": [
    "# Database connection\n",
    "elephantsql_client = connect(ELEPHANTSQL_DATABASE, ELEPHANTSQL_USERNAME, ELEPHANTSQL_PASSWORD, ELEPHANTSQL_HOST)\n",
    "\n",
    "command = '''DROP TABLE usernames_table;'''\n",
    "\n",
    "execute_command(elephantsql_client, command)\n",
    "\n",
    "# Close the connection\n",
    "elephantsql_client.close()\n",
    "print('Connection is closed.')"
   ]
  },
  {
   "cell_type": "markdown",
   "metadata": {},
   "source": [
    "Database filling"
   ]
  },
  {
   "cell_type": "code",
   "execution_count": 37,
   "metadata": {},
   "outputs": [
    {
     "name": "stdout",
     "output_type": "stream",
     "text": [
      "Connecting to the PostgreSQL database...\n",
      "Connection is closed.\n",
      "Connecting to the PostgreSQL database...\n",
      "Connection is closed.\n"
     ]
    }
   ],
   "source": [
    "# Json response data\n",
    "username = 'tyler'\n",
    "questions_right = 2\n",
    "questions_wrong = 3\n",
    "question_accuracy = 40\n",
    "total_time = 25\n",
    "\n",
    "\n",
    "# Testing username/ grabbing elements\n",
    "# Database connection\n",
    "elephantsql_client = connect(ELEPHANTSQL_DATABASE, ELEPHANTSQL_USERNAME, ELEPHANTSQL_PASSWORD, ELEPHANTSQL_HOST)\n",
    "\n",
    "command = '''SELECT * FROM usernames_table WHERE username = '{}';'''.format(username)\n",
    "username_package = get_value(elephantsql_client, command)\n",
    "\n",
    "# Close the connection\n",
    "elephantsql_client.close()\n",
    "print('Connection is closed.')\n",
    "\n",
    "# Quary failed\n",
    "if username_package == []:\n",
    "    # Username has not yet been created\n",
    "\n",
    "    # Database connection\n",
    "    elephantsql_client = connect(ELEPHANTSQL_DATABASE, ELEPHANTSQL_USERNAME, ELEPHANTSQL_PASSWORD, ELEPHANTSQL_HOST)\n",
    "\n",
    "    command = \"INSERT INTO usernames_table (username, questions_right, questions_wrong, question_accuracy, total_time) VALUES ('{}', '{}', '{}', '{}', '{}')\".format(username,\n",
    "                                                                                                                                                                     questions_right,\n",
    "                                                                                                                                                                     questions_wrong,\n",
    "                                                                                                                                                                     question_accuracy,\n",
    "                                                                                                                                                                     total_time)\n",
    "    execute_command(elephantsql_client, command)\n",
    "\n",
    "    # Close the connection\n",
    "    elephantsql_client.close()\n",
    "    print('Connection is closed.')\n",
    "\n",
    "#Quarry succeded\n",
    "else:\n",
    "    questions_right += int(username_package[0][1])\n",
    "    questions_wrong += int(username_package[0][2])\n",
    "    question_accuracy = (questions_right / (questions_right + questions_wrong)) * 100\n",
    "    total_time += int(username_package[0][4])\n",
    "\n",
    "    # Convert to string\n",
    "    questions_right = str(questions_right)\n",
    "    questions_wrong = str(questions_wrong)\n",
    "    question_accuracy = str(question_accuracy)\n",
    "    total_time = str(total_time)\n",
    "\n",
    "    # Database connection\n",
    "    elephantsql_client = connect(ELEPHANTSQL_DATABASE, ELEPHANTSQL_USERNAME, ELEPHANTSQL_PASSWORD, ELEPHANTSQL_HOST)\n",
    "\n",
    "    command = \"UPDATE usernames_table SET questions_right = '{}', questions_wrong = '{}', question_accuracy = '{}', total_time = '{}' WHERE username = '{}';\".format(questions_right,\n",
    "                                                                                                                                                                      questions_wrong,\n",
    "                                                                                                                                                                      question_accuracy,\n",
    "                                                                                                                                                                      total_time,\n",
    "                                                                                                                                                                      username)\n",
    "    execute_command(elephantsql_client, command)\n",
    "\n",
    "    # Close the connection\n",
    "    elephantsql_client.close()\n",
    "    print('Connection is closed.')\n",
    "\n",
    "\n",
    "\n"
   ]
  },
  {
   "cell_type": "markdown",
   "metadata": {},
   "source": [
    "Return List of a table"
   ]
  },
  {
   "cell_type": "code",
   "execution_count": null,
   "metadata": {},
   "outputs": [],
   "source": [
    "def get_value(elephantsql_client, command):\n",
    "    # A \"cursor\", a structure to iterate over db records to perform queries\n",
    "    cur = elephantsql_client.cursor()\n",
    "\n",
    "    try:\n",
    "        # Execute commands in order\n",
    "        cur.execute(command)\n",
    "\n",
    "    except (Exception, psycopg2.DatabaseError) as error:\n",
    "        print(\"Error: %s\" % error)\n",
    "        elephantsql_client.rollback()\n",
    "        cur.close()\n",
    "        return 1\n",
    "\n",
    "    # Get cur value\n",
    "    returned = cur.fetchall()\n",
    "    \n",
    "    # Close communication with the PostgreSQL database server\n",
    "    cur.close()\n",
    "\n",
    "    return returned"
   ]
  },
  {
   "cell_type": "markdown",
   "metadata": {},
   "source": [
    "Getting Sorted Table"
   ]
  },
  {
   "cell_type": "code",
   "execution_count": 66,
   "metadata": {},
   "outputs": [
    {
     "name": "stdout",
     "output_type": "stream",
     "text": [
      "Connecting to the PostgreSQL database...\n",
      "Connection is closed.\n"
     ]
    }
   ],
   "source": [
    "# Database connection\n",
    "elephantsql_client = connect(ELEPHANTSQL_DATABASE, ELEPHANTSQL_USERNAME, ELEPHANTSQL_PASSWORD, ELEPHANTSQL_HOST)\n",
    "\n",
    "command = '''SELECT * FROM usernames_table ORDER BY question_accuracy DESC'''\n",
    "usernames_package = get_value(elephantsql_client, command)\n",
    "\n",
    "# Close the connection\n",
    "elephantsql_client.close()\n",
    "print('Connection is closed.')"
   ]
  },
  {
   "cell_type": "code",
   "execution_count": 65,
   "metadata": {},
   "outputs": [
    {
     "data": {
      "text/plain": [
       "[('superman', '6', '9', '40.0', '60'),\n",
       " ('shaem', '1', '4', '20', '15'),\n",
       " ('kid', '15', '0', '100.0', '66'),\n",
       " ('human', '5', '0', '100', '22'),\n",
       " ('dave', '5', '0', '100', '22')]"
      ]
     },
     "execution_count": 65,
     "metadata": {},
     "output_type": "execute_result"
    }
   ],
   "source": [
    "usernames_package"
   ]
  },
  {
   "cell_type": "code",
   "execution_count": null,
   "metadata": {},
   "outputs": [],
   "source": []
  },
  {
   "cell_type": "code",
   "execution_count": null,
   "metadata": {},
   "outputs": [],
   "source": []
  }
 ],
 "metadata": {
  "interpreter": {
   "hash": "878edaf2201edce6d4a06617dff3a215352c100cdc5bbd9fa7f83fa60e0da4ea"
  },
  "kernelspec": {
   "display_name": "Python 3.7.9 64-bit",
   "language": "python",
   "name": "python3"
  },
  "language_info": {
   "codemirror_mode": {
    "name": "ipython",
    "version": 3
   },
   "file_extension": ".py",
   "mimetype": "text/x-python",
   "name": "python",
   "nbconvert_exporter": "python",
   "pygments_lexer": "ipython3",
   "version": "3.7.9"
  },
  "orig_nbformat": 4
 },
 "nbformat": 4,
 "nbformat_minor": 2
}
