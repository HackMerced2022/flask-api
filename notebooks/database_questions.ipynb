{
 "cells": [
  {
   "cell_type": "markdown",
   "metadata": {},
   "source": [
    "Needed libraries"
   ]
  },
  {
   "cell_type": "code",
   "execution_count": 1,
   "metadata": {},
   "outputs": [
    {
     "data": {
      "text/plain": [
       "True"
      ]
     },
     "execution_count": 1,
     "metadata": {},
     "output_type": "execute_result"
    }
   ],
   "source": [
    "import sys\n",
    "import psycopg2\n",
    "from os import getenv\n",
    "from dotenv import load_dotenv\n",
    "load_dotenv()"
   ]
  },
  {
   "cell_type": "markdown",
   "metadata": {},
   "source": [
    "Secret Vars"
   ]
  },
  {
   "cell_type": "code",
   "execution_count": 2,
   "metadata": {},
   "outputs": [],
   "source": [
    "ELEPHANTSQL_DATABASE = getenv('ELEPHANTSQL_DATABASE')\n",
    "ELEPHANTSQL_USERNAME = getenv('ELEPHANTSQL_USERNAME')\n",
    "ELEPHANTSQL_PASSWORD = getenv('ELEPHANTSQL_PASSWORD')\n",
    "ELEPHANTSQL_HOST = getenv('ELEPHANTSQL_HOST')"
   ]
  },
  {
   "cell_type": "markdown",
   "metadata": {},
   "source": [
    "SQL Database Connect"
   ]
  },
  {
   "cell_type": "code",
   "execution_count": 3,
   "metadata": {},
   "outputs": [],
   "source": [
    "def connect(DATABASE, USERNAME, PASSWORD, HOST):\n",
    "    \"\"\" Connect to the PostgreSQL database server \"\"\"\n",
    "    elephantsql_client = None\n",
    "    try:\n",
    "        # connect to the PostgreSQL server\n",
    "        print('Connecting to the PostgreSQL database...')\n",
    "\n",
    "        # Connect to ElephantSQL-hosted PostgreSQL\n",
    "        elephantsql_client = psycopg2.connect(dbname=DATABASE, user=USERNAME, password=PASSWORD, host=HOST)\n",
    "\n",
    "    except (Exception, psycopg2.DatabaseError) as error:\n",
    "        print(error)\n",
    "        sys.exit(1)\n",
    "    return elephantsql_client"
   ]
  },
  {
   "cell_type": "markdown",
   "metadata": {},
   "source": [
    "Create Database Table"
   ]
  },
  {
   "cell_type": "code",
   "execution_count": 4,
   "metadata": {},
   "outputs": [],
   "source": [
    "def create_table(elephantsql_client, command):\n",
    "    '''Creating table with given input command'''    \n",
    "    try:\n",
    "        # A \"cursor\", a structure to iterate over db records to perform queries\n",
    "        cur = elephantsql_client.cursor()\n",
    "\n",
    "        # Execute commands in order\n",
    "        cur.execute(command)\n",
    "\n",
    "        # Close communication with the PostgreSQL database server\n",
    "        cur.close()\n",
    "\n",
    "        # Commit the changes\n",
    "        elephantsql_client.commit()\n",
    "\n",
    "    except (Exception, psycopg2.DatabaseError) as error:\n",
    "        print(error)"
   ]
  },
  {
   "cell_type": "markdown",
   "metadata": {},
   "source": [
    "Execute Command"
   ]
  },
  {
   "cell_type": "code",
   "execution_count": 5,
   "metadata": {},
   "outputs": [],
   "source": [
    "def execute_command(elephantsql_client, insert_req):\n",
    "    \"\"\" Execute a single INSERT request \"\"\"\n",
    "    try:\n",
    "        # Create cursor object\n",
    "        cur = elephantsql_client.cursor()\n",
    "\n",
    "        # Execute command\n",
    "        cur.execute(insert_req)\n",
    "\n",
    "        # Commit changes\n",
    "        elephantsql_client.commit()\n",
    "    except (Exception, psycopg2.DatabaseError) as error:\n",
    "\n",
    "        print(\"Error: %s\" % error)\n",
    "\n",
    "        # Reset to prev database state\n",
    "        elephantsql_client.rollback()\n",
    "\n",
    "        # Close cursor object\n",
    "        cur.close()\n",
    "        return 1\n",
    "        \n",
    "    cur.close()"
   ]
  },
  {
   "cell_type": "markdown",
   "metadata": {},
   "source": [
    "Drop a table"
   ]
  },
  {
   "cell_type": "code",
   "execution_count": 6,
   "metadata": {},
   "outputs": [
    {
     "name": "stdout",
     "output_type": "stream",
     "text": [
      "Connecting to the PostgreSQL database...\n",
      "Error: table \"questions_table\" does not exist\n",
      "\n",
      "Connection is closed.\n"
     ]
    }
   ],
   "source": [
    "# Database connection\n",
    "elephantsql_client = connect(ELEPHANTSQL_DATABASE, ELEPHANTSQL_USERNAME, ELEPHANTSQL_PASSWORD, ELEPHANTSQL_HOST)\n",
    "\n",
    "command = '''DROP TABLE questions_table;'''\n",
    "\n",
    "execute_command(elephantsql_client, command)\n",
    "\n",
    "# Close the connection\n",
    "elephantsql_client.close()\n",
    "print('Connection is closed.')"
   ]
  },
  {
   "cell_type": "markdown",
   "metadata": {},
   "source": [
    "Creating a table in the database"
   ]
  },
  {
   "cell_type": "code",
   "execution_count": 7,
   "metadata": {},
   "outputs": [
    {
     "name": "stdout",
     "output_type": "stream",
     "text": [
      "Connecting to the PostgreSQL database...\n",
      "Connection is closed.\n"
     ]
    }
   ],
   "source": [
    "# Database connection\n",
    "elephantsql_client = connect(ELEPHANTSQL_DATABASE, ELEPHANTSQL_USERNAME, ELEPHANTSQL_PASSWORD, ELEPHANTSQL_HOST)\n",
    "\n",
    "# Building Inital user tweet tables\n",
    "command = '''CREATE TABLE IF NOT EXISTS questions_table (question_id             SERIAL PRIMARY KEY,\n",
    "                                                         question_title             varchar(100),\n",
    "                                                         question_lesson            varchar(1000),\n",
    "                                                         question_desc              varchar(1000),\n",
    "                                                         question_a                 varchar(100),\n",
    "                                                         question_b                 varchar(100),\n",
    "                                                         question_c                 varchar(100),\n",
    "                                                         question_d                 varchar(100),\n",
    "                                                         answer                     varchar(100),\n",
    "                                                         error                      varchar(100))'''\n",
    "create_table(elephantsql_client, command)\n",
    "\n",
    "# Close the connection\n",
    "elephantsql_client.close()\n",
    "print('Connection is closed.')"
   ]
  },
  {
   "cell_type": "markdown",
   "metadata": {},
   "source": [
    "Add to questions table"
   ]
  },
  {
   "cell_type": "code",
   "execution_count": 8,
   "metadata": {},
   "outputs": [],
   "source": [
    "def add_question(question_package):\n",
    "    # Database connection\n",
    "    elephantsql_client = connect(ELEPHANTSQL_DATABASE, ELEPHANTSQL_USERNAME, ELEPHANTSQL_PASSWORD, ELEPHANTSQL_HOST)\n",
    "\n",
    "\n",
    "    command = \"INSERT INTO questions_table (question_id, question_title, question_lesson, question_desc, question_a, question_b, question_c, question_d, answer, error) VALUES ('{}', '{}', '{}', '{}', '{}', '{}', '{}', '{}', '{}', '{}' )\".format(question_package['question_id'], \n",
    "                                                                                                                                                                                                                            question_package['question_title'], \n",
    "                                                                                                                                                                                                                            question_package['question_lesson'],\n",
    "                                                                                                                                                                                                                            question_package['question_desc'], \n",
    "                                                                                                                                                                                                                            question_package['question_a'], \n",
    "                                                                                                                                                                                                                            question_package['question_b'], \n",
    "                                                                                                                                                                                                                            question_package['question_c'], \n",
    "                                                                                                                                                                                                                            question_package['question_d'], \n",
    "                                                                                                                                                                                                                            question_package['answer'], \n",
    "                                                                                                                                                                                                                            question_package['error'])\n",
    "    execute_command(elephantsql_client, command)\n",
    "\n",
    "    # Close the connection\n",
    "    elephantsql_client.close()\n",
    "    print('Connection is closed.')\n",
    "    "
   ]
  },
  {
   "cell_type": "code",
   "execution_count": 9,
   "metadata": {},
   "outputs": [],
   "source": [
    "# python unit\n",
    "track_one_question_one = {'question_id':  11,\n",
    "                        'question_title': 'Question 1: Basic Operations and Priting in Python',\n",
    "                        'question_lesson': 'You can use jupyter notebook for python as a basic calculator\\nSo, 2+2(Addition)-->4\\n2-2(Subtraction)-->0\\n2*4(multiplication)-->8\\n4/2((division)-->2\\n2**3(Power)-->8\\nModulo or Mod Operator, here when we divide 2 numbers, we receive the quotient as the final answer, With Mod operator, we can find the remainder of the whole division like when we divide 5/2 we get 2.5 which is quotient but to get remainder we do 5%2 which is 1.',\n",
    "                        'question_desc': 'What is the output of 7%4?',\n",
    "                        'question_a': '3',\n",
    "                        'question_b': '6',\n",
    "                        'question_c': '4',\n",
    "                        'question_d': '5',\n",
    "                        'answer': 'a',\n",
    "                        'error': 'None'}\n",
    "\n",
    "track_one_question_two = {'question_id':  12,\n",
    "                        'question_title': 'Question 2: Basic Operations and Priting in Python',\n",
    "                        'question_lesson': 'To print stuff in python we use the print command like \\nprint(“Hello World”) will give us Hello World \\nAnything in “ “ is considered as a string so “12” is a string and not an integer \\nAlso, Python accepts both symbols “ and ‘ but in cases like \\nprint(‘I’ve done my work’), running this will give us an error as python will consider characters \\nonly till ve and that can be corrected by doing print(“I’ve done my work”) \\nbackslash n: newline(This is used to create a new line) \\nbackslash t: create 3 spaces(This is used to create 3 spaces between terms).',\n",
    "                        'question_desc': 'What is the output of the following string?\\nprint(“My name is troy\")',\n",
    "                        'question_a': 'Error',\n",
    "                        'question_b': '(\"My name is Troy\")',\n",
    "                        'question_c': 'My name is troy',\n",
    "                        'question_d': '“My name is troy”',\n",
    "                        'answer': 'c',\n",
    "                        'error': 'None'}\n",
    "\n",
    "track_one_question_three = {'question_id':  13,\n",
    "                        'question_title': 'Question 3: Basic Operations and Priting in Python',\n",
    "                        'question_lesson': \"\"\"To print stuff in python we use the print command like \\nprint(“Hello World”) will give us Hello World \\nAnything in “ “ is considered as a string so “12” is a string and not an integer \\nAlso, Python accepts both symbols “ and ‘ but in cases like \\nprint(‘I’ve done my work’), running this will give us an error as python will consider characters \\nonly till ve and that can be corrected by doing print(“I’ve done my work”) \\nbackslash n: newline(This is used to create a new line) \\nbackslash t: create 3 spaces(This is used to create 3 spaces between terms).\"\"\",\n",
    "                        'question_desc': 'What is the output of (2**3)%3',\n",
    "                        'question_a': '1',\n",
    "                        'question_b': '2',\n",
    "                        'question_c': '3',\n",
    "                        'question_d': '4',\n",
    "                        'answer': 'b',\n",
    "                        'error': 'None'}\n",
    "\n",
    "track_one_question_four = {'question_id':  14,\n",
    "                        'question_title': 'Question 4: Basic Operations and Priting in Python',\n",
    "                        'question_lesson': 'To print stuff in python we use the print command like \\nprint(“Hello World”) will give us Hello World \\nAnything in “ “ is considered as a string so “12” is a string and not an integer \\nAlso, Python accepts both symbols “ and ‘ but in cases like \\nprint(‘I’ve done my work’), running this will give us an error as python will consider characters \\nonly till ve and that can be corrected by doing print(“I’ve done my work”) \\nbackslash n: newline(This is used to create a new line) \\nbackslash t: create 3 spaces(This is used to create 3 spaces between terms).',\n",
    "                        'question_desc': 'What is the output of the following string?\\nprint(“Date\\nTime”)',\n",
    "                        'question_a': 'Error',\n",
    "                        'question_b': 'DateTime',\n",
    "                        'question_c': 'Date Time',\n",
    "                        'question_d': 'Date\\nTime',\n",
    "                        'answer': 'd',\n",
    "                        'error': 'None'}\n",
    "\n",
    "track_one_question_five = {'question_id':  15,\n",
    "                        'question_title': 'Question 5: Basic Operations and Priting in Python',\n",
    "                        'question_lesson': 'To print stuff in python we use the print command like \\nprint(“Hello World”) will give us Hello World \\nAnything in “ “ is considered as a string so “12” is a string and not an integer \\nAlso, Python accepts both symbols “ and ‘ but in cases like \\nprint(‘I’ve done my work’), running this will give us an error as python will consider characters \\nonly till ve and that can be corrected by doing print(“I’ve done my work”) \\nbackslash n: newline(This is used to create a new line) \\nbackslash t: create 3 spaces(This is used to create 3 spaces between terms).',\n",
    "                        'question_desc': 'What is the output of the following string?\\\\n(“Seconds\\tMinutes”)',\n",
    "                        'question_a': 'Second   Minutes',\n",
    "                        'question_b': 'SecondMinutes',\n",
    "                        'question_c': 'Error',\n",
    "                        'question_d': 'Second\\nMinutes',\n",
    "                        'answer': 'a',\n",
    "                        'error': 'None'}\n",
    "\n",
    "track_two_question_one = {'question_id':  21,\n",
    "                        'question_title': 'Question 7: Variables',\n",
    "                        'question_lesson': '',\n",
    "                        'question_desc': \"if work='Game': \\nwork\",\n",
    "                        'question_a': '4',\n",
    "                        'question_b': 'Error',\n",
    "                        'question_c': 'Game',\n",
    "                        'question_d': \"'Game'\",\n",
    "                        'answer': 'a',\n",
    "                        'error': 'None'}\n",
    "\n",
    "track_two_question_one = {'question_id':  21,\n",
    "                        'question_title': '',\n",
    "                        'question_lesson': '',\n",
    "                        'question_desc': '',\n",
    "                        'question_a': '',\n",
    "                        'question_b': '',\n",
    "                        'question_c': '',\n",
    "                        'question_d': '',\n",
    "                        'answer': 'a',\n",
    "                        'error': 'None'}\n",
    "\n",
    "track_two_question_one = {'question_id':  21,\n",
    "                        'question_title': '',\n",
    "                        'question_lesson': '',\n",
    "                        'question_desc': '',\n",
    "                        'question_a': '',\n",
    "                        'question_b': '',\n",
    "                        'question_c': '',\n",
    "                        'question_d': '',\n",
    "                        'answer': 'a',\n",
    "                        'error': 'None'}\n",
    "\n",
    "track_two_question_one = {'question_id':  21,\n",
    "                        'question_title': '',\n",
    "                        'question_lesson': '',\n",
    "                        'question_desc': '',\n",
    "                        'question_a': '',\n",
    "                        'question_b': '',\n",
    "                        'question_c': '',\n",
    "                        'question_d': '',\n",
    "                        'answer': 'a',\n",
    "                        'error': 'None'}\n",
    "\n"
   ]
  },
  {
   "cell_type": "code",
   "execution_count": 10,
   "metadata": {},
   "outputs": [
    {
     "name": "stdout",
     "output_type": "stream",
     "text": [
      "Connecting to the PostgreSQL database...\n",
      "Connection is closed.\n",
      "Connecting to the PostgreSQL database...\n",
      "Connection is closed.\n",
      "Connecting to the PostgreSQL database...\n",
      "Connection is closed.\n",
      "Connecting to the PostgreSQL database...\n",
      "Connection is closed.\n",
      "Connecting to the PostgreSQL database...\n",
      "Connection is closed.\n"
     ]
    }
   ],
   "source": [
    "add_question(track_one_question_one)\n",
    "add_question(track_one_question_two)\n",
    "add_question(track_one_question_three)\n",
    "add_question(track_one_question_four)\n",
    "add_question(track_one_question_five)"
   ]
  },
  {
   "cell_type": "code",
   "execution_count": null,
   "metadata": {},
   "outputs": [],
   "source": []
  }
 ],
 "metadata": {
  "interpreter": {
   "hash": "878edaf2201edce6d4a06617dff3a215352c100cdc5bbd9fa7f83fa60e0da4ea"
  },
  "kernelspec": {
   "display_name": "Python 3.7.9 64-bit",
   "language": "python",
   "name": "python3"
  },
  "language_info": {
   "codemirror_mode": {
    "name": "ipython",
    "version": 3
   },
   "file_extension": ".py",
   "mimetype": "text/x-python",
   "name": "python",
   "nbconvert_exporter": "python",
   "pygments_lexer": "ipython3",
   "version": "3.7.9"
  },
  "orig_nbformat": 4
 },
 "nbformat": 4,
 "nbformat_minor": 2
}
